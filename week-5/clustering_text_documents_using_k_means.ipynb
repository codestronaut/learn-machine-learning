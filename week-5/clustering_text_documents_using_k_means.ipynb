{
  "nbformat": 4,
  "nbformat_minor": 0,
  "metadata": {
    "colab": {
      "name": "clustering-text-documents-using-k-means.ipynb",
      "provenance": []
    },
    "kernelspec": {
      "name": "python3",
      "display_name": "Python 3"
    },
    "language_info": {
      "name": "python"
    }
  },
  "cells": [
    {
      "cell_type": "code",
      "metadata": {
        "id": "NJYfYgEVUWUK"
      },
      "source": [
        "# load library\n",
        "from sklearn.datasets import fetch_20newsgroups\n",
        "from sklearn.decomposition import TruncatedSVD\n",
        "from sklearn.feature_extraction.text import TfidfVectorizer\n",
        "from sklearn.feature_extraction.text import HashingVectorizer\n",
        "from sklearn.feature_extraction.text import TfidfTransformer\n",
        "from sklearn.pipeline import make_pipeline\n",
        "from sklearn.preprocessing import Normalizer\n",
        "from sklearn import metrics\n",
        "\n",
        "from sklearn.cluster import KMeans, MiniBatchKMeans\n",
        "\n",
        "import logging\n",
        "from optparse import OptionParser\n",
        "import sys\n",
        "from time import time\n",
        "\n",
        "import numpy as np"
      ],
      "execution_count": 23,
      "outputs": []
    },
    {
      "cell_type": "code",
      "metadata": {
        "id": "CRcOe05YUiwQ"
      },
      "source": [
        "# display progress logs on stdout\n",
        "logging.basicConfig(level=logging.INFO, format=\"%(asctime)s %(levelname)s %(message)s\")"
      ],
      "execution_count": 24,
      "outputs": []
    },
    {
      "cell_type": "code",
      "metadata": {
        "colab": {
          "base_uri": "https://localhost:8080/"
        },
        "id": "Tz2CJqplUoWt",
        "outputId": "539b5777-7a09-4131-c9f0-9da5d76e0a6c"
      },
      "source": [
        "# parse commandline arguments\n",
        "op = OptionParser()\n",
        "op.add_option(\n",
        "    \"--lsa\",\n",
        "    dest=\"n_components\",\n",
        "    type=\"int\",\n",
        "    help=\"Preprocess documents with latent semantic analysis.\",\n",
        ")\n",
        "op.add_option(\n",
        "    \"--no-minibatch\",\n",
        "    action=\"store_false\",\n",
        "    dest=\"minibatch\",\n",
        "    default=True,\n",
        "    help=\"Use ordinary k-means algorithm (in batch mode).\",\n",
        ")\n",
        "op.add_option(\n",
        "    \"--no-idf\",\n",
        "    action=\"store_false\",\n",
        "    dest=\"use_idf\",\n",
        "    default=True,\n",
        "    help=\"Disable Inverse Document Frequency feature weighting.\",\n",
        ")\n",
        "op.add_option(\n",
        "    \"--use-hashing\",\n",
        "    action=\"store_true\",\n",
        "    default=False,\n",
        "    help=\"Use a hashing feature vectorizer\",\n",
        ")\n",
        "op.add_option(\n",
        "    \"--n-features\",\n",
        "    type=int,\n",
        "    default=10000,\n",
        "    help=\"Maximum number of features (dimensions) to extract from text.\",\n",
        ")\n",
        "op.add_option(\n",
        "    \"--verbose\",\n",
        "    action=\"store_true\",\n",
        "    dest=\"verbose\",\n",
        "    default=False,\n",
        "    help=\"Print progress reports inside k-means algorithm.\",\n",
        ")\n",
        "\n",
        "print(__doc__)\n",
        "op.print_help()\n",
        "print()\n",
        "\n",
        "\n",
        "def is_interactive():\n",
        "    return not hasattr(sys.modules[\"__main__\"], \"__file__\")"
      ],
      "execution_count": 25,
      "outputs": [
        {
          "output_type": "stream",
          "name": "stdout",
          "text": [
            "Automatically created module for IPython interactive environment\n",
            "Usage: ipykernel_launcher.py [options]\n",
            "\n",
            "Options:\n",
            "  -h, --help            show this help message and exit\n",
            "  --lsa=N_COMPONENTS    Preprocess documents with latent semantic analysis.\n",
            "  --no-minibatch        Use ordinary k-means algorithm (in batch mode).\n",
            "  --no-idf              Disable Inverse Document Frequency feature weighting.\n",
            "  --use-hashing         Use a hashing feature vectorizer\n",
            "  --n-features=N_FEATURES\n",
            "                        Maximum number of features (dimensions) to extract\n",
            "                        from text.\n",
            "  --verbose             Print progress reports inside k-means algorithm.\n",
            "\n"
          ]
        }
      ]
    },
    {
      "cell_type": "code",
      "metadata": {
        "id": "YtQxg7_4Uz7z"
      },
      "source": [
        "argv = [] if is_interactive() else sys.argv[1:]\n",
        "(opts, args) = op.parse_args(argv)\n",
        "if len(args) > 0:\n",
        "    op.error(\"this script takes no arguments.\")\n",
        "    sys.exit(1)"
      ],
      "execution_count": 26,
      "outputs": []
    },
    {
      "cell_type": "code",
      "metadata": {
        "colab": {
          "base_uri": "https://localhost:8080/"
        },
        "id": "Mi5DmvboU46r",
        "outputId": "4400a134-1984-41f6-a976-0fda97305d4a"
      },
      "source": [
        "# load some categories from the training set\n",
        "categories = [\n",
        "    \"alt.atheism\",\n",
        "    \"talk.religion.misc\",\n",
        "    \"comp.graphics\",\n",
        "    \"sci.space\",\n",
        "]\n",
        "\n",
        "print(\"Loading 20 newsgroups dataset for categories:\")\n",
        "print(categories)\n",
        "\n",
        "dataset = fetch_20newsgroups(\n",
        "    subset=\"all\", categories=categories, shuffle=True, random_state=42\n",
        ")\n",
        "\n",
        "print(\"%d documents\" % len(dataset.data))\n",
        "print(\"%d categories\" % len(dataset.target_names))\n",
        "print()\n",
        "\n",
        "labels = dataset.target\n",
        "true_k = np.unique(labels).shape[0]\n",
        "\n",
        "print(\"Extracting features from the training dataset using a sparse vectorizer\")\n",
        "t0 = time()\n",
        "if opts.use_hashing:\n",
        "    if opts.use_idf:\n",
        "        # Perform an IDF normalization on the output of HashingVectorizer\n",
        "        hasher = HashingVectorizer(\n",
        "            n_features=opts.n_features,\n",
        "            stop_words=\"english\",\n",
        "            alternate_sign=False,\n",
        "            norm=None,\n",
        "        )\n",
        "        vectorizer = make_pipeline(hasher, TfidfTransformer())\n",
        "    else:\n",
        "        vectorizer = HashingVectorizer(\n",
        "            n_features=opts.n_features,\n",
        "            stop_words=\"english\",\n",
        "            alternate_sign=False,\n",
        "            norm=\"l2\",\n",
        "        )\n",
        "else:\n",
        "    vectorizer = TfidfVectorizer(\n",
        "        max_df=0.5,\n",
        "        max_features=opts.n_features,\n",
        "        min_df=2,\n",
        "        stop_words=\"english\",\n",
        "        use_idf=opts.use_idf,\n",
        "    )\n",
        "X = vectorizer.fit_transform(dataset.data)\n",
        "\n",
        "print(\"done in %fs\" % (time() - t0))\n",
        "print(\"n_samples: %d, n_features: %d\" % X.shape)\n",
        "print()\n",
        "\n",
        "if opts.n_components:\n",
        "    print(\"Performing dimensionality reduction using LSA\")\n",
        "    t0 = time()\n",
        "    # Vectorizer results are normalized, which makes KMeans behave as\n",
        "    # spherical k-means for better results. Since LSA/SVD results are\n",
        "    # not normalized, we have to redo the normalization.\n",
        "    svd = TruncatedSVD(opts.n_components)\n",
        "    normalizer = Normalizer(copy=False)\n",
        "    lsa = make_pipeline(svd, normalizer)\n",
        "\n",
        "    X = lsa.fit_transform(X)\n",
        "\n",
        "    print(\"done in %fs\" % (time() - t0))\n",
        "\n",
        "    explained_variance = svd.explained_variance_ratio_.sum()\n",
        "    print(\n",
        "        \"Explained variance of the SVD step: {}%\".format(int(explained_variance * 100))\n",
        "    )\n",
        "\n",
        "    print()"
      ],
      "execution_count": 27,
      "outputs": [
        {
          "output_type": "stream",
          "name": "stdout",
          "text": [
            "Loading 20 newsgroups dataset for categories:\n",
            "['alt.atheism', 'talk.religion.misc', 'comp.graphics', 'sci.space']\n",
            "3387 documents\n",
            "4 categories\n",
            "\n",
            "Extracting features from the training dataset using a sparse vectorizer\n",
            "done in 0.929056s\n",
            "n_samples: 3387, n_features: 10000\n",
            "\n"
          ]
        }
      ]
    },
    {
      "cell_type": "code",
      "metadata": {
        "colab": {
          "base_uri": "https://localhost:8080/"
        },
        "id": "AjgGgV8RV2o5",
        "outputId": "f2e58007-385a-4963-c608-bd2c4a28b133"
      },
      "source": [
        "# do the actual clustering\n",
        "if opts.minibatch:\n",
        "    km = MiniBatchKMeans(\n",
        "        n_clusters=true_k,\n",
        "        init=\"k-means++\",\n",
        "        n_init=1,\n",
        "        init_size=1000,\n",
        "        batch_size=1000,\n",
        "        verbose=opts.verbose,\n",
        "    )\n",
        "else:\n",
        "    km = KMeans(\n",
        "        n_clusters=true_k,\n",
        "        init=\"k-means++\",\n",
        "        max_iter=100,\n",
        "        n_init=1,\n",
        "        verbose=opts.verbose,\n",
        "    )\n",
        "\n",
        "print(\"Clustering sparse data with %s\" % km)\n",
        "t0 = time()\n",
        "km.fit(X)\n",
        "print(\"done in %0.3fs\" % (time() - t0))\n",
        "print()\n",
        "\n",
        "print(\"Homogeneity: %0.3f\" % metrics.homogeneity_score(labels, km.labels_))\n",
        "print(\"Completeness: %0.3f\" % metrics.completeness_score(labels, km.labels_))\n",
        "print(\"V-measure: %0.3f\" % metrics.v_measure_score(labels, km.labels_))\n",
        "print(\"Adjusted Rand-Index: %.3f\" % metrics.adjusted_rand_score(labels, km.labels_))\n",
        "print(\n",
        "    \"Silhouette Coefficient: %0.3f\"\n",
        "    % metrics.silhouette_score(X, km.labels_, sample_size=1000)\n",
        ")\n",
        "\n",
        "print()\n",
        "\n",
        "\n",
        "if not opts.use_hashing:\n",
        "    print(\"Top terms per cluster:\")\n",
        "\n",
        "    if opts.n_components:\n",
        "        original_space_centroids = svd.inverse_transform(km.cluster_centers_)\n",
        "        order_centroids = original_space_centroids.argsort()[:, ::-1]\n",
        "    else:\n",
        "        order_centroids = km.cluster_centers_.argsort()[:, ::-1]\n",
        "\n",
        "    terms = vectorizer.get_feature_names()\n",
        "    for i in range(true_k):\n",
        "        print(\"Cluster %d:\" % i, end=\"\")\n",
        "        for ind in order_centroids[i, :10]:\n",
        "            print(\" %s\" % terms[ind], end=\"\")\n",
        "        print()"
      ],
      "execution_count": 28,
      "outputs": [
        {
          "output_type": "stream",
          "name": "stdout",
          "text": [
            "Clustering sparse data with MiniBatchKMeans(batch_size=1000, compute_labels=True, init='k-means++',\n",
            "                init_size=1000, max_iter=100, max_no_improvement=10,\n",
            "                n_clusters=4, n_init=1, random_state=None,\n",
            "                reassignment_ratio=0.01, tol=0.0, verbose=False)\n",
            "done in 0.087s\n",
            "\n",
            "Homogeneity: 0.413\n",
            "Completeness: 0.423\n",
            "V-measure: 0.418\n",
            "Adjusted Rand-Index: 0.386\n",
            "Silhouette Coefficient: 0.006\n",
            "\n",
            "Top terms per cluster:\n",
            "Cluster 0: com sandvik graphics apple kent newton article ibm 3d ca\n",
            "Cluster 1: space nasa henry access digex toronto gov pat alaska shuttle\n",
            "Cluster 2: god people keith com say morality don sgi livesey jesus\n",
            "Cluster 3: university cs posting host nntp ac uk thanks image file\n"
          ]
        }
      ]
    }
  ]
}