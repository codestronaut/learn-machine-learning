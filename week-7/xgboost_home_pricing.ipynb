{
  "nbformat": 4,
  "nbformat_minor": 0,
  "metadata": {
    "colab": {
      "name": "xgboost-home-pricing.ipynb",
      "provenance": [],
      "collapsed_sections": []
    },
    "kernelspec": {
      "name": "python3",
      "display_name": "Python 3"
    },
    "language_info": {
      "name": "python"
    }
  },
  "cells": [
    {
      "cell_type": "markdown",
      "metadata": {
        "id": "aEdPddVbQrSr"
      },
      "source": [
        "### Load library & prepare data"
      ]
    },
    {
      "cell_type": "code",
      "metadata": {
        "id": "FJA6UE0AP25K"
      },
      "source": [
        "# load library\n",
        "import pandas as pd\n",
        "from sklearn.model_selection import train_test_split\n",
        "\n",
        "# read the data\n",
        "X = pd.read_csv('train.csv', index_col='Id')\n",
        "X_test_full = pd.read_csv('test.csv', index_col='Id')\n",
        "\n",
        "# remove rows with the missing target, separate traget from predictors\n",
        "X.dropna(axis=0, subset=['SalePrice'], inplace=True)\n",
        "y = X.SalePrice\n",
        "X.drop(['SalePrice'], axis=1, inplace=True)\n",
        "\n",
        "# break off training data & test data\n",
        "X_train_full, X_valid_full, y_train, y_valid = train_test_split(X, y, train_size=0.8, test_size=0.2, random_state=0)\n",
        "\n",
        "# select categorical column with relatively low cardinality\n",
        "low_cardinality_cols = [cname for cname in X_train_full.columns if X_train_full[cname].nunique() < 10 and X_train_full[cname].dtype == 'object']\n",
        "\n",
        "# select numeric columns\n",
        "numeric_cols = [cname for cname in X_train_full.columns if X_train_full[cname].dtype in ['int64', 'float64']]\n",
        "\n",
        "# keep selected columns only\n",
        "my_cols = low_cardinality_cols + numeric_cols\n",
        "X_train = X_train_full[my_cols].copy()\n",
        "X_valid = X_valid_full[my_cols].copy()\n",
        "X_test = X_test_full[my_cols].copy()\n",
        "\n",
        "# one-shot encode the data\n",
        "X_train = pd.get_dummies(X_train)\n",
        "X_valid = pd.get_dummies(X_valid)\n",
        "X_test = pd.get_dummies(X_test)\n",
        "X_train, X_valid = X_train.align(X_valid, join='left', axis=1)\n",
        "X_train, X_test = X_train.align(X_test, join='left', axis=1)"
      ],
      "execution_count": 5,
      "outputs": []
    },
    {
      "cell_type": "markdown",
      "metadata": {
        "id": "EavoA1_LVE0j"
      },
      "source": [
        "### Build model\n",
        "Building initial model (1st) with gradient boosting"
      ]
    },
    {
      "cell_type": "code",
      "metadata": {
        "colab": {
          "base_uri": "https://localhost:8080/"
        },
        "id": "ecRE-eTFVG8E",
        "outputId": "18300df2-b39c-4d21-e2e9-0df76abcd0db"
      },
      "source": [
        "# load library\n",
        "from xgboost import XGBRegressor\n",
        "from sklearn.metrics import mean_absolute_error\n",
        "\n",
        "# build first model\n",
        "my_model_1 = XGBRegressor()\n",
        "\n",
        "# train first model\n",
        "my_model_1.fit(X_train, y_train)\n",
        "\n",
        "# get first predictions\n",
        "predictions_1 = my_model_1.predict(X_valid)\n",
        "\n",
        "# calculate MAE\n",
        "mae_1 = mean_absolute_error(predictions_1, y_valid)\n",
        "print('Mean Absolute Error: ', mae_1)"
      ],
      "execution_count": 11,
      "outputs": [
        {
          "output_type": "stream",
          "name": "stdout",
          "text": [
            "[13:43:41] WARNING: /workspace/src/objective/regression_obj.cu:152: reg:linear is now deprecated in favor of reg:squarederror.\n",
            "Mean Absolute Error:  16803.434690710616\n"
          ]
        }
      ]
    },
    {
      "cell_type": "markdown",
      "metadata": {
        "id": "IetKGsECW8PR"
      },
      "source": [
        "### Improve the model\n",
        "Build more better model with gradient booster by adding some parameters like `n_estimators` and `learning_rate`"
      ]
    },
    {
      "cell_type": "code",
      "metadata": {
        "colab": {
          "base_uri": "https://localhost:8080/"
        },
        "id": "ZMgJfFlZW-c3",
        "outputId": "69678ecb-6048-4140-cc92-20e358690345"
      },
      "source": [
        "# build second model\n",
        "my_model_2 = XGBRegressor(n_estimators=1000, learning_rate=0.05)\n",
        "\n",
        "# train second model\n",
        "my_model_2.fit(X_train, y_train)\n",
        "\n",
        "# get second prediction\n",
        "predictions_2 = my_model_2.predict(X_valid)\n",
        "\n",
        "# calculate MAE\n",
        "mae_2 = mean_absolute_error(predictions_2, y_valid)\n",
        "print('Mean Absolute Error: ', mae_2)"
      ],
      "execution_count": 13,
      "outputs": [
        {
          "output_type": "stream",
          "name": "stdout",
          "text": [
            "[13:47:00] WARNING: /workspace/src/objective/regression_obj.cu:152: reg:linear is now deprecated in favor of reg:squarederror.\n",
            "Mean Absolute Error:  16084.123354559075\n"
          ]
        }
      ]
    },
    {
      "cell_type": "markdown",
      "metadata": {
        "id": "83GaSTf3ZBiQ"
      },
      "source": [
        "### Break the model\n",
        "Build model that perform worse than the first model. This will help us to determine how to set the parameters"
      ]
    },
    {
      "cell_type": "code",
      "metadata": {
        "colab": {
          "base_uri": "https://localhost:8080/"
        },
        "id": "UXbepct2ZDZs",
        "outputId": "5755d939-5708-4132-829b-71319c9a4c9b"
      },
      "source": [
        "# build third model\n",
        "my_model_3 = XGBRegressor(n_estimators=50, learning_rate=0.1)\n",
        "\n",
        "# train second model\n",
        "my_model_3.fit(X_train, y_train)\n",
        "\n",
        "# get second prediction\n",
        "predictions_3 = my_model_3.predict(X_valid)\n",
        "\n",
        "# calculate MAE\n",
        "mae_3 = mean_absolute_error(predictions_3, y_valid)\n",
        "print('Mean Absolute Error: ', mae_3)"
      ],
      "execution_count": 14,
      "outputs": [
        {
          "output_type": "stream",
          "name": "stdout",
          "text": [
            "[13:52:25] WARNING: /workspace/src/objective/regression_obj.cu:152: reg:linear is now deprecated in favor of reg:squarederror.\n",
            "Mean Absolute Error:  17742.43953339041\n"
          ]
        }
      ]
    }
  ]
}