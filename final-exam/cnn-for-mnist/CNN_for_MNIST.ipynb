{
  "nbformat": 4,
  "nbformat_minor": 0,
  "metadata": {
    "colab": {
      "name": "CNN-for-MNIST.ipynb",
      "provenance": [],
      "collapsed_sections": []
    },
    "kernelspec": {
      "name": "python3",
      "display_name": "Python 3"
    },
    "language_info": {
      "name": "python"
    }
  },
  "cells": [
    {
      "cell_type": "code",
      "execution_count": 39,
      "metadata": {
        "id": "6N9MpLDK0gjX"
      },
      "outputs": [],
      "source": [
        "# working with data\n",
        "import torch\n",
        "from torch import nn\n",
        "from torch.utils.data import DataLoader\n",
        "from torchvision import datasets\n",
        "from torchvision import transforms\n",
        "from torchvision.transforms import ToTensor, Lambda, Compose\n",
        "import matplotlib.pyplot as plt\n",
        "import numpy as np"
      ]
    },
    {
      "cell_type": "code",
      "source": [
        "# use data from torchvision datasets\n",
        "training_data = datasets.MNIST(\n",
        "    root = 'data',\n",
        "    train = True,\n",
        "    download = True,\n",
        "    transform = ToTensor(),\n",
        ")\n",
        "\n",
        "test_data = datasets.MNIST(\n",
        "    root = 'data',\n",
        "    train = False,\n",
        "    download = True,\n",
        "    transform = ToTensor(),\n",
        ")"
      ],
      "metadata": {
        "id": "o9RuC33s2kZS"
      },
      "execution_count": 40,
      "outputs": []
    },
    {
      "cell_type": "code",
      "source": [
        "# define a batch size of 64\n",
        "# means each element in dataloader iterable will return batch of 64 features and labels\n",
        "batch_size = 64\n",
        "\n",
        "# create a dataloader\n",
        "train_dataloader = DataLoader(training_data, batch_size = batch_size)\n",
        "test_dataloader = DataLoader(test_data, batch_size=batch_size)\n",
        "\n",
        "for X, y in test_dataloader:\n",
        "  print('Shape of X [H, C, H, W]: ', X.shape)\n",
        "  print('Shape of y: ', y.shape, y.dtype)\n",
        "  break"
      ],
      "metadata": {
        "colab": {
          "base_uri": "https://localhost:8080/"
        },
        "id": "kG4aRRsa3Nf1",
        "outputId": "66425b2a-5e77-439d-fda9-8e176de45add"
      },
      "execution_count": 41,
      "outputs": [
        {
          "output_type": "stream",
          "name": "stdout",
          "text": [
            "Shape of X [H, C, H, W]:  torch.Size([64, 1, 28, 28])\n",
            "Shape of y:  torch.Size([64]) torch.int64\n"
          ]
        }
      ]
    },
    {
      "cell_type": "code",
      "source": [
        "# visualize\n",
        "fig=plt.figure(figsize=(20, 10))\n",
        "for i in range(1, 6):\n",
        "    img = transforms.ToPILImage(mode='L')(training_data[i][0])\n",
        "    fig.add_subplot(1, 6, i)\n",
        "    plt.title(training_data[i][1])\n",
        "    plt.imshow(img)\n",
        "\n",
        "plt.show()"
      ],
      "metadata": {
        "colab": {
          "base_uri": "https://localhost:8080/",
          "height": 223
        },
        "id": "RxKPY42tOGeF",
        "outputId": "2cd6274e-5c33-4ed7-fb25-150b76238725"
      },
      "execution_count": 42,
      "outputs": [
        {
          "output_type": "display_data",
          "data": {
            "image/png": "[encoded data removed]",
            "text/plain": [
              "<Figure size 1440x720 with 5 Axes>"
            ]
          },
          "metadata": {
            "needs_background": "light"
          }
        }
      ]
    },
    {
      "cell_type": "code",
      "source": [
        "# creating models\n",
        "# get cpu or gpu for training\n",
        "device = 'cuda' if torch.cuda.is_available() else 'cpu'\n",
        "print(f'Using {device} device')\n",
        "\n",
        "# define the model\n",
        "# create a class that inherit from nn.Module\n",
        "class NeuralNetwork(nn.Module):\n",
        "  def __init__(self):\n",
        "    super(NeuralNetwork, self).__init__()\n",
        "    self.flatten = nn.Flatten()\n",
        "    self.linear_relu_stack = nn.Sequential(\n",
        "        nn.Linear(28 * 28, 512),\n",
        "        nn.ReLU(),\n",
        "        nn.Linear(512, 512),\n",
        "        nn.ReLU(),\n",
        "        nn.Linear(512, 10)\n",
        "    )\n",
        "  \n",
        "  def forward(self, x):\n",
        "    x = self.flatten(x)\n",
        "    logits = self.linear_relu_stack(x)\n",
        "    return logits\n",
        "\n",
        "# create model\n",
        "model = NeuralNetwork().to(device)\n",
        "print(model)"
      ],
      "metadata": {
        "colab": {
          "base_uri": "https://localhost:8080/"
        },
        "id": "QGA097vx4h_-",
        "outputId": "03a15ece-a16b-4a94-b3ae-9984079d74a6"
      },
      "execution_count": 43,
      "outputs": [
        {
          "output_type": "stream",
          "name": "stdout",
          "text": [
            "Using cpu device\n",
            "NeuralNetwork(\n",
            "  (flatten): Flatten(start_dim=1, end_dim=-1)\n",
            "  (linear_relu_stack): Sequential(\n",
            "    (0): Linear(in_features=784, out_features=512, bias=True)\n",
            "    (1): ReLU()\n",
            "    (2): Linear(in_features=512, out_features=512, bias=True)\n",
            "    (3): ReLU()\n",
            "    (4): Linear(in_features=512, out_features=10, bias=True)\n",
            "  )\n",
            ")\n"
          ]
        }
      ]
    },
    {
      "cell_type": "code",
      "source": [
        "# optimize and train model\n",
        "# loss function and optimizer needed to train the model\n",
        "loss_fn = nn.CrossEntropyLoss()\n",
        "optimizer = torch.optim.SGD(model.parameters(), lr = 1e-3)\n",
        "\n",
        "def train(dataloader, model, loss_fn, optimizer):\n",
        "  size = len(dataloader.dataset)\n",
        "  model.train()\n",
        "  for batch, (X, y) in enumerate(dataloader):\n",
        "    X, y = X.to(device), y.to(device)\n",
        "\n",
        "    # compute prediction error\n",
        "    pred = model(X)\n",
        "    loss = loss_fn(pred, y)\n",
        "\n",
        "    # backpropagation\n",
        "    # to adjust the model params\n",
        "    optimizer.zero_grad()\n",
        "    loss.backward()\n",
        "    optimizer.step()\n",
        "\n",
        "    if batch % 100 == 0:\n",
        "      loss, current = loss.item(), batch * len(X)\n",
        "      print(f'loss: {loss:>7f} [{current:>5d}/{size:>5d}]')\n",
        "\n",
        "# test model performance and to enrsume it is learning\n",
        "def test(dataloader, model, loss_fn):\n",
        "  size = len(dataloader.dataset)\n",
        "  num_batches = len(dataloader)\n",
        "  model.eval()\n",
        "  test_loss, correct = 0, 0\n",
        "  with torch.no_grad():\n",
        "    for X, y in dataloader:\n",
        "      X, y = X.to(device), y.to(device)\n",
        "      pred = model(X)\n",
        "      test_loss += loss_fn(pred, y).item()\n",
        "      correct += (pred.argmax(1) == y).type(torch.float).sum().item()\n",
        "  test_loss /= num_batches\n",
        "  correct /= size\n",
        "  print(f'Test error: \\n Accuracy: {(100 * correct):>0.1f}%, Avg loss: {test_loss:>8f} \\n')"
      ],
      "metadata": {
        "id": "0YvhkDsv_M1D"
      },
      "execution_count": 44,
      "outputs": []
    },
    {
      "cell_type": "code",
      "source": [
        "# train\n",
        "# process over several iterations (epochs)\n",
        "epochs = 5\n",
        "for t in range(epochs):\n",
        "  print(f'Epoch {t + 1}\\n----------------------------')\n",
        "  train(train_dataloader, model, loss_fn, optimizer)\n",
        "  test(test_dataloader, model, loss_fn)\n",
        "print('Done!')"
      ],
      "metadata": {
        "colab": {
          "base_uri": "https://localhost:8080/"
        },
        "id": "Vd2s9DxJB7HU",
        "outputId": "f2bf3fe0-ae17-46ff-fe0c-a99b43197970"
      },
      "execution_count": 45,
      "outputs": [
        {
          "output_type": "stream",
          "name": "stdout",
          "text": [
            "Epoch 1\n",
            "----------------------------\n",
            "loss: 2.305352 [    0/60000]\n",
            "loss: 2.292991 [ 6400/60000]\n",
            "loss: 2.288218 [12800/60000]\n",
            "loss: 2.293006 [19200/60000]\n",
            "loss: 2.286736 [25600/60000]\n",
            "loss: 2.276274 [32000/60000]\n",
            "loss: 2.264342 [38400/60000]\n",
            "loss: 2.266627 [44800/60000]\n",
            "loss: 2.251602 [51200/60000]\n",
            "loss: 2.247814 [57600/60000]\n",
            "Test error: \n",
            " Accuracy: 44.9%, Avg loss: 2.250854 \n",
            "\n",
            "Epoch 2\n",
            "----------------------------\n",
            "loss: 2.249734 [    0/60000]\n",
            "loss: 2.238569 [ 6400/60000]\n",
            "loss: 2.249748 [12800/60000]\n",
            "loss: 2.223540 [19200/60000]\n",
            "loss: 2.234305 [25600/60000]\n",
            "loss: 2.221308 [32000/60000]\n",
            "loss: 2.197688 [38400/60000]\n",
            "loss: 2.217371 [44800/60000]\n",
            "loss: 2.181337 [51200/60000]\n",
            "loss: 2.173653 [57600/60000]\n",
            "Test error: \n",
            " Accuracy: 60.8%, Avg loss: 2.177777 \n",
            "\n",
            "Epoch 3\n",
            "----------------------------\n",
            "loss: 2.172333 [    0/60000]\n",
            "loss: 2.157689 [ 6400/60000]\n",
            "loss: 2.189494 [12800/60000]\n",
            "loss: 2.122445 [19200/60000]\n",
            "loss: 2.151906 [25600/60000]\n",
            "loss: 2.132870 [32000/60000]\n",
            "loss: 2.087706 [38400/60000]\n",
            "loss: 2.132657 [44800/60000]\n",
            "loss: 2.064399 [51200/60000]\n",
            "loss: 2.048966 [57600/60000]\n",
            "Test error: \n",
            " Accuracy: 65.3%, Avg loss: 2.053520 \n",
            "\n",
            "Epoch 4\n",
            "----------------------------\n",
            "loss: 2.042505 [    0/60000]\n",
            "loss: 2.018482 [ 6400/60000]\n",
            "loss: 2.080834 [12800/60000]\n",
            "loss: 1.953980 [19200/60000]\n",
            "loss: 2.006762 [25600/60000]\n",
            "loss: 1.977016 [32000/60000]\n",
            "loss: 1.901544 [38400/60000]\n",
            "loss: 1.984653 [44800/60000]\n",
            "loss: 1.868008 [51200/60000]\n",
            "loss: 1.841734 [57600/60000]\n",
            "Test error: \n",
            " Accuracy: 69.0%, Avg loss: 1.845126 \n",
            "\n",
            "Epoch 5\n",
            "----------------------------\n",
            "loss: 1.833753 [    0/60000]\n",
            "loss: 1.786855 [ 6400/60000]\n",
            "loss: 1.887778 [12800/60000]\n",
            "loss: 1.691451 [19200/60000]\n",
            "loss: 1.764286 [25600/60000]\n",
            "loss: 1.722695 [32000/60000]\n",
            "loss: 1.624030 [38400/60000]\n",
            "loss: 1.755572 [44800/60000]\n",
            "loss: 1.585268 [51200/60000]\n",
            "loss: 1.550711 [57600/60000]\n",
            "Test error: \n",
            " Accuracy: 71.5%, Avg loss: 1.549268 \n",
            "\n",
            "Done!\n"
          ]
        }
      ]
    },
    {
      "cell_type": "code",
      "source": [
        "# saving model\n",
        "torch.save(model.state_dict(), 'model.pth')\n",
        "print('Saved PyTorch model state to model.pth')"
      ],
      "metadata": {
        "colab": {
          "base_uri": "https://localhost:8080/"
        },
        "id": "-EQzoLMTC2yo",
        "outputId": "80c3d334-aabc-4b8f-99b6-6674fe175c49"
      },
      "execution_count": 46,
      "outputs": [
        {
          "output_type": "stream",
          "name": "stdout",
          "text": [
            "Saved PyTorch model state to model.pth\n"
          ]
        }
      ]
    },
    {
      "cell_type": "code",
      "source": [
        "# load model\n",
        "model = NeuralNetwork()\n",
        "model.load_state_dict(torch.load('model.pth'))"
      ],
      "metadata": {
        "colab": {
          "base_uri": "https://localhost:8080/"
        },
        "id": "H4UQpmQ0DG7F",
        "outputId": "3dff25e7-2a63-4e06-cbf0-f3d03ff14b39"
      },
      "execution_count": 47,
      "outputs": [
        {
          "output_type": "execute_result",
          "data": {
            "text/plain": [
              "<All keys matched successfully>"
            ]
          },
          "metadata": {},
          "execution_count": 47
        }
      ]
    },
    {
      "cell_type": "code",
      "source": [
        "# utility\n",
        "def view_classify(img, ps):\n",
        "    ''' Function for viewing an image and it's predicted classes.\n",
        "    '''\n",
        "    ps = ps.cpu().data.numpy().squeeze()\n",
        "\n",
        "    fig, (ax1, ax2) = plt.subplots(figsize=(6,9), ncols=2)\n",
        "    ax1.imshow(img.resize_(1, 28, 28).numpy().squeeze())\n",
        "    ax1.axis('off')\n",
        "    ax2.barh(np.arange(10), ps)\n",
        "    ax2.set_aspect(0.1)\n",
        "    ax2.set_yticks(np.arange(10))\n",
        "    ax2.set_yticklabels(np.arange(10))\n",
        "    ax2.set_title('Class Probability')\n",
        "    ax2.set_xlim(0, 1.1)\n",
        "    plt.tight_layout()"
      ],
      "metadata": {
        "id": "sT91cmvJRt7B"
      },
      "execution_count": 48,
      "outputs": []
    },
    {
      "cell_type": "code",
      "source": [
        "# the model now can be used to make a predictions\n",
        "images, labels = next(iter(test_dataloader))\n",
        "img = images[1].view(1, 784)\n",
        "\n",
        "model.eval()\n",
        "with torch.no_grad():\n",
        "  logps = model(img)\n",
        "\n",
        "ps = torch.exp(logps)\n",
        "probab = list(ps.cpu().numpy()[0])\n",
        "print(f'Predicted digit: {probab.index(max(probab))}')\n",
        "view_classify(img.view(1, 28, 28), ps)"
      ],
      "metadata": {
        "colab": {
          "base_uri": "https://localhost:8080/",
          "height": 270
        },
        "id": "Oi_Z0cuADWgM",
        "outputId": "3c67280a-61ee-40a9-e119-c40e6513f044"
      },
      "execution_count": 49,
      "outputs": [
        {
          "output_type": "stream",
          "name": "stdout",
          "text": [
            "Predicted digit: 2\n"
          ]
        },
        {
          "output_type": "display_data",
          "data": {
            "image/png": "[encoded data removed]",
            "text/plain": [
              "<Figure size 432x648 with 2 Axes>"
            ]
          },
          "metadata": {
            "needs_background": "light"
          }
        }
      ]
    }
  ]
}