{
  "nbformat": 4,
  "nbformat_minor": 0,
  "metadata": {
    "colab": {
      "name": "learn-pytorch.ipynb",
      "provenance": [],
      "collapsed_sections": []
    },
    "kernelspec": {
      "name": "python3",
      "display_name": "Python 3"
    },
    "language_info": {
      "name": "python"
    }
  },
  "cells": [
    {
      "cell_type": "code",
      "execution_count": 1,
      "metadata": {
        "id": "6N9MpLDK0gjX"
      },
      "outputs": [],
      "source": [
        "# working with data\n",
        "import torch\n",
        "from torch import nn\n",
        "from torch.utils.data import DataLoader\n",
        "from torchvision import datasets\n",
        "from torchvision.transforms import ToTensor, Lambda, Compose\n",
        "import matplotlib.pyplot as plt"
      ]
    },
    {
      "cell_type": "code",
      "source": [
        "# use data from torchvision datasets\n",
        "training_data = datasets.FashionMNIST(\n",
        "    root = 'data',\n",
        "    train = True,\n",
        "    download = True,\n",
        "    transform = ToTensor(),\n",
        ")\n",
        "\n",
        "test_data = datasets.FashionMNIST(\n",
        "    root = 'data',\n",
        "    train = False,\n",
        "    download = True,\n",
        "    transform = ToTensor(),\n",
        ")"
      ],
      "metadata": {
        "id": "o9RuC33s2kZS"
      },
      "execution_count": 4,
      "outputs": []
    },
    {
      "cell_type": "code",
      "source": [
        "# define a batch size of 64\n",
        "# means each element in dataloader iterable will return batch of 64 features and labels\n",
        "batch_size = 64\n",
        "\n",
        "# create a dataloader\n",
        "train_dataloader = DataLoader(training_data, batch_size = batch_size)\n",
        "test_dataloader = DataLoader(test_data, batch_size=batch_size)\n",
        "\n",
        "for X, y in test_dataloader:\n",
        "  print('Shape of X [H, C, H, W]: ', X.shape)\n",
        "  print('Shape of y: ', y.shape, y.dtype)\n",
        "  break"
      ],
      "metadata": {
        "colab": {
          "base_uri": "https://localhost:8080/"
        },
        "id": "kG4aRRsa3Nf1",
        "outputId": "fea1910b-c5db-4098-b1a2-d0e269ad9db0"
      },
      "execution_count": 5,
      "outputs": [
        {
          "output_type": "stream",
          "name": "stdout",
          "text": [
            "Shape of X [H, C, H, W]:  torch.Size([64, 1, 28, 28])\n",
            "Shape of y:  torch.Size([64]) torch.int64\n"
          ]
        }
      ]
    },
    {
      "cell_type": "code",
      "source": [
        "# creating models\n",
        "# get cpu or gpu for training\n",
        "device = 'cuda' if torch.cuda.is_available() else 'cpu'\n",
        "print(f'Using {device} device')\n",
        "\n",
        "# define the model\n",
        "# create a class that inherit from nn.Module\n",
        "class NeuralNetwork(nn.Module):\n",
        "  def __init__(self):\n",
        "    super(NeuralNetwork, self).__init__()\n",
        "    self.flatten = nn.Flatten()\n",
        "    self.linear_relu_stack = nn.Sequential(\n",
        "        nn.Linear(28 * 28, 512),\n",
        "        nn.ReLU(),\n",
        "        nn.Linear(512, 512),\n",
        "        nn.ReLU(),\n",
        "        nn.Linear(512, 10)\n",
        "    )\n",
        "  \n",
        "  def forward(self, x):\n",
        "    x = self.flatten(x)\n",
        "    logits = self.linear_relu_stack(x)\n",
        "    return logits\n",
        "\n",
        "# create model\n",
        "model = NeuralNetwork().to(device)\n",
        "print(model)"
      ],
      "metadata": {
        "colab": {
          "base_uri": "https://localhost:8080/"
        },
        "id": "QGA097vx4h_-",
        "outputId": "8fecc73e-4f61-4e23-f80a-1dda18ee5f2c"
      },
      "execution_count": 7,
      "outputs": [
        {
          "output_type": "stream",
          "name": "stdout",
          "text": [
            "Using cpu device\n",
            "NeuralNetwork(\n",
            "  (flatten): Flatten(start_dim=1, end_dim=-1)\n",
            "  (linear_relu_stack): Sequential(\n",
            "    (0): Linear(in_features=784, out_features=512, bias=True)\n",
            "    (1): ReLU()\n",
            "    (2): Linear(in_features=512, out_features=512, bias=True)\n",
            "    (3): ReLU()\n",
            "    (4): Linear(in_features=512, out_features=10, bias=True)\n",
            "  )\n",
            ")\n"
          ]
        }
      ]
    },
    {
      "cell_type": "code",
      "source": [
        "# optimize and train model\n",
        "# loss function and optimizer needed to train the model\n",
        "loss_fn = nn.CrossEntropyLoss()\n",
        "optimizer = torch.optim.SGD(model.parameters(), lr = 1e-3)\n",
        "\n",
        "def train(dataloader, model, loss_fn, optimizer):\n",
        "  size = len(dataloader.dataset)\n",
        "  model.train()\n",
        "  for batch, (X, y) in enumerate(dataloader):\n",
        "    X, y = X.to(device), y.to(device)\n",
        "\n",
        "    # compute prediction error\n",
        "    pred = model(X)\n",
        "    loss = loss_fn(pred, y)\n",
        "\n",
        "    # backpropagation\n",
        "    # to adjust the model params\n",
        "    optimizer.zero_grad()\n",
        "    loss.backward()\n",
        "    optimizer.step()\n",
        "\n",
        "    if batch % 100 == 0:\n",
        "      loss, current = loss.item(), batch * len(X)\n",
        "      print(f'loss: {loss:>7f} [{current:>5d}/{size:>5d}]')\n",
        "\n",
        "# test model performance and to enrsume it is learning\n",
        "def test(dataloader, model, loss_fn):\n",
        "  size = len(dataloader.dataset)\n",
        "  num_batches = len(dataloader)\n",
        "  model.eval()\n",
        "  test_loss, correct = 0, 0\n",
        "  with torch.no_grad():\n",
        "    for X, y in dataloader:\n",
        "      X, y = X.to(device), y.to(device)\n",
        "      pred = model(X)\n",
        "      test_loss += loss_fn(pred, y).item()\n",
        "      correct += (pred.argmax(1) == y).type(torch.float).sum().item()\n",
        "  test_loss /= num_batches\n",
        "  correct /= size\n",
        "  print(f'Test error: \\n Accuracy: {(100 * correct):>0.1f}%, Avg loss: {test_loss:>8f} \\n')"
      ],
      "metadata": {
        "id": "0YvhkDsv_M1D"
      },
      "execution_count": 11,
      "outputs": []
    },
    {
      "cell_type": "code",
      "source": [
        "# train\n",
        "# process over several iterations (epochs)\n",
        "epochs = 5\n",
        "for t in range(epochs):\n",
        "  print(f'Epoch {t + 1}\\n----------------------------')\n",
        "  train(train_dataloader, model, loss_fn, optimizer)\n",
        "  test(test_dataloader, model, loss_fn)\n",
        "print('Done!')"
      ],
      "metadata": {
        "colab": {
          "base_uri": "https://localhost:8080/"
        },
        "id": "Vd2s9DxJB7HU",
        "outputId": "76ee58ed-81ff-4d7a-841c-92255d1b0a98"
      },
      "execution_count": 12,
      "outputs": [
        {
          "output_type": "stream",
          "name": "stdout",
          "text": [
            "Epoch 1\n",
            "----------------------------\n",
            "loss: 2.175184 [    0/60000]\n",
            "loss: 2.160882 [ 6400/60000]\n",
            "loss: 2.105793 [12800/60000]\n",
            "loss: 2.113875 [19200/60000]\n",
            "loss: 2.071410 [25600/60000]\n",
            "loss: 2.013943 [32000/60000]\n",
            "loss: 2.045913 [38400/60000]\n",
            "loss: 1.968857 [44800/60000]\n",
            "loss: 1.975269 [51200/60000]\n",
            "loss: 1.906171 [57600/60000]\n",
            "Test error: \n",
            " Accuracy: 57.3%, Avg loss: 1.897527 \n",
            "\n",
            "Epoch 2\n",
            "----------------------------\n",
            "loss: 1.936010 [    0/60000]\n",
            "loss: 1.904527 [ 6400/60000]\n",
            "loss: 1.788033 [12800/60000]\n",
            "loss: 1.822152 [19200/60000]\n",
            "loss: 1.724393 [25600/60000]\n",
            "loss: 1.670588 [32000/60000]\n",
            "loss: 1.702010 [38400/60000]\n",
            "loss: 1.599713 [44800/60000]\n",
            "loss: 1.624885 [51200/60000]\n",
            "loss: 1.524536 [57600/60000]\n",
            "Test error: \n",
            " Accuracy: 60.3%, Avg loss: 1.533361 \n",
            "\n",
            "Epoch 3\n",
            "----------------------------\n",
            "loss: 1.605091 [    0/60000]\n",
            "loss: 1.572338 [ 6400/60000]\n",
            "loss: 1.419446 [12800/60000]\n",
            "loss: 1.487039 [19200/60000]\n",
            "loss: 1.371698 [25600/60000]\n",
            "loss: 1.359959 [32000/60000]\n",
            "loss: 1.385903 [38400/60000]\n",
            "loss: 1.307263 [44800/60000]\n",
            "loss: 1.337339 [51200/60000]\n",
            "loss: 1.242049 [57600/60000]\n",
            "Test error: \n",
            " Accuracy: 63.2%, Avg loss: 1.263846 \n",
            "\n",
            "Epoch 4\n",
            "----------------------------\n",
            "loss: 1.341808 [    0/60000]\n",
            "loss: 1.331407 [ 6400/60000]\n",
            "loss: 1.162007 [12800/60000]\n",
            "loss: 1.264907 [19200/60000]\n",
            "loss: 1.135097 [25600/60000]\n",
            "loss: 1.155961 [32000/60000]\n",
            "loss: 1.188453 [38400/60000]\n",
            "loss: 1.126178 [44800/60000]\n",
            "loss: 1.157166 [51200/60000]\n",
            "loss: 1.076162 [57600/60000]\n",
            "Test error: \n",
            " Accuracy: 64.7%, Avg loss: 1.095526 \n",
            "\n",
            "Epoch 5\n",
            "----------------------------\n",
            "loss: 1.166584 [    0/60000]\n",
            "loss: 1.178470 [ 6400/60000]\n",
            "loss: 0.992125 [12800/60000]\n",
            "loss: 1.125022 [19200/60000]\n",
            "loss: 0.987661 [25600/60000]\n",
            "loss: 1.020543 [32000/60000]\n",
            "loss: 1.065982 [38400/60000]\n",
            "loss: 1.010401 [44800/60000]\n",
            "loss: 1.041126 [51200/60000]\n",
            "loss: 0.972562 [57600/60000]\n",
            "Test error: \n",
            " Accuracy: 65.6%, Avg loss: 0.987263 \n",
            "\n",
            "Done!\n"
          ]
        }
      ]
    },
    {
      "cell_type": "code",
      "source": [
        "# saving model\n",
        "torch.save(model.state_dict(), 'model.pth')\n",
        "print('Saved PyTorch model state to model.pth')"
      ],
      "metadata": {
        "colab": {
          "base_uri": "https://localhost:8080/"
        },
        "id": "-EQzoLMTC2yo",
        "outputId": "60e3480f-ae0a-4360-a342-e973e5c09ad7"
      },
      "execution_count": 13,
      "outputs": [
        {
          "output_type": "stream",
          "name": "stdout",
          "text": [
            "Saved PyTorch model state to model.pth\n"
          ]
        }
      ]
    },
    {
      "cell_type": "code",
      "source": [
        "# load model\n",
        "model = NeuralNetwork()\n",
        "model.load_state_dict(torch.load('model.pth'))"
      ],
      "metadata": {
        "colab": {
          "base_uri": "https://localhost:8080/"
        },
        "id": "H4UQpmQ0DG7F",
        "outputId": "057fd0d7-4d47-4825-9c70-2391b543c345"
      },
      "execution_count": 14,
      "outputs": [
        {
          "output_type": "execute_result",
          "data": {
            "text/plain": [
              "<All keys matched successfully>"
            ]
          },
          "metadata": {},
          "execution_count": 14
        }
      ]
    },
    {
      "cell_type": "code",
      "source": [
        "# the model now can be used to make a predictions\n",
        "classes = [\n",
        "  \"T-shirt/top\",\n",
        "  \"Trouser\",\n",
        "  \"Pullover\",\n",
        "  \"Dress\",\n",
        "  \"Coat\",\n",
        "  \"Sandal\",\n",
        "  \"Shirt\",\n",
        "  \"Sneaker\",\n",
        "  \"Bag\",\n",
        "  \"Ankle boot\",\n",
        "]\n",
        "\n",
        "model.eval()\n",
        "x, y = test_data[0][0], test_data[0][1]\n",
        "with torch.no_grad():\n",
        "  pred = model(x)\n",
        "  predicted, actual = classes[pred[0].argmax(0)], classes[y]\n",
        "  print(f'Predicted: {predicted}, Actual: {actual}')"
      ],
      "metadata": {
        "colab": {
          "base_uri": "https://localhost:8080/"
        },
        "id": "Oi_Z0cuADWgM",
        "outputId": "59b44e6d-7f55-492a-e1cf-a9e5b4bdd624"
      },
      "execution_count": 17,
      "outputs": [
        {
          "output_type": "stream",
          "name": "stdout",
          "text": [
            "Predicted: Ankle boot, Actual: Ankle boot\n"
          ]
        }
      ]
    }
  ]
}